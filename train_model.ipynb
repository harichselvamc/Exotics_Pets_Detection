{
 "cells": [
  {
   "cell_type": "code",
   "execution_count": 70,
   "metadata": {},
   "outputs": [],
   "source": [
    "!pip install tensorflow pillow matplotlib  Image --quiet \n"
   ]
  },
  {
   "cell_type": "markdown",
   "metadata": {},
   "source": [
    "# Importing libraries\n"
   ]
  },
  {
   "cell_type": "code",
   "execution_count": 8,
   "metadata": {},
   "outputs": [
    {
     "name": "stdout",
     "output_type": "stream",
     "text": [
      "Found 6044 images belonging to 10 classes.\n",
      "Found 6044 images belonging to 10 classes.\n",
      "Epoch 1/10\n",
      "188/188 [==============================] - 580s 3s/step - loss: 2.5008 - accuracy: 0.7092 - val_loss: 0.7144 - val_accuracy: 0.7415\n",
      "Epoch 2/10\n",
      "188/188 [==============================] - 594s 3s/step - loss: 0.6974 - accuracy: 0.7605 - val_loss: 0.5705 - val_accuracy: 0.7955\n",
      "Epoch 3/10\n",
      "188/188 [==============================] - 539s 3s/step - loss: 0.6424 - accuracy: 0.7773 - val_loss: 0.5964 - val_accuracy: 0.7744\n",
      "Epoch 4/10\n",
      "188/188 [==============================] - 535s 3s/step - loss: 0.6538 - accuracy: 0.7713 - val_loss: 0.5730 - val_accuracy: 0.7954\n",
      "Epoch 5/10\n",
      "188/188 [==============================] - 525s 3s/step - loss: 0.6268 - accuracy: 0.7831 - val_loss: 0.5551 - val_accuracy: 0.7924\n",
      "Epoch 6/10\n",
      "188/188 [==============================] - 528s 3s/step - loss: 0.6060 - accuracy: 0.7846 - val_loss: 0.5539 - val_accuracy: 0.7921\n",
      "Epoch 7/10\n",
      "188/188 [==============================] - 519s 3s/step - loss: 0.6050 - accuracy: 0.7904 - val_loss: 0.5370 - val_accuracy: 0.8039\n",
      "Epoch 8/10\n",
      "188/188 [==============================] - 494s 3s/step - loss: 0.5701 - accuracy: 0.7992 - val_loss: 0.4690 - val_accuracy: 0.8396\n",
      "Epoch 9/10\n",
      "188/188 [==============================] - 525s 3s/step - loss: 0.5883 - accuracy: 0.7831 - val_loss: 0.4804 - val_accuracy: 0.8150\n",
      "Epoch 10/10\n",
      "188/188 [==============================] - 537s 3s/step - loss: 0.5756 - accuracy: 0.7932 - val_loss: 0.4618 - val_accuracy: 0.8198\n"
     ]
    },
    {
     "name": "stderr",
     "output_type": "stream",
     "text": [
      "c:\\Users\\haric\\AppData\\Local\\Programs\\Python\\Python39\\lib\\site-packages\\keras\\src\\engine\\training.py:3079: UserWarning: You are saving your model as an HDF5 file via `model.save()`. This file format is considered legacy. We recommend using instead the native Keras format, e.g. `model.save('my_model.keras')`.\n",
      "  saving_api.save_model(\n"
     ]
    }
   ],
   "source": [
    "import matplotlib.pyplot as plt\n",
    "import tensorflow as tf\n",
    "from tensorflow.keras.applications.inception_v3 import InceptionV3\n",
    "from tensorflow.keras.preprocessing.image import ImageDataGenerator\n",
    "from tensorflow.keras.layers import Dense, GlobalAveragePooling2D\n",
    "from tensorflow.keras.models import Model\n",
    "from tensorflow.keras.optimizers import Adam\n",
    "\n",
    "train_dir = \"E:/project/pet_adoption_matching_algorithm/dataset/archive\"\n",
    "test_dir = \"E:/project/pet_adoption_matching_algorithm/dataset/archive\"\n",
    "\n",
    "num_classes = 10\n",
    "image_size = (224, 224)  # Corrected variable name\n",
    "batch_size = 32\n",
    "learning_rate = 0.01\n",
    "epochs = 10\n",
    "\n",
    "training_data = ImageDataGenerator(\n",
    "    rescale=1./255,\n",
    "    shear_range=0.2,\n",
    "    zoom_range=0.2,\n",
    "    horizontal_flip=True\n",
    ")\n",
    "\n",
    "validation_data = ImageDataGenerator(rescale=1./255)\n",
    "\n",
    "base_model = InceptionV3(weights=\"imagenet\", include_top=False, input_shape=(image_size[0], image_size[1], 3))\n",
    "\n",
    "x = base_model.output\n",
    "x = GlobalAveragePooling2D()(x)\n",
    "x = Dense(1024, activation='relu')(x)\n",
    "predictions = Dense(num_classes, activation=\"softmax\")(x)\n",
    "\n",
    "model = Model(inputs=base_model.input, outputs=predictions)\n",
    "\n",
    "for layer in base_model.layers:\n",
    "    layer.trainable = False\n",
    "\n",
    "model.compile(optimizer=Adam(learning_rate=learning_rate), loss='categorical_crossentropy', metrics=[\"accuracy\"])\n",
    "\n",
    "train_generator = training_data.flow_from_directory(\n",
    "    train_dir,\n",
    "    target_size=image_size,  # Corrected variable name\n",
    "    batch_size=batch_size,\n",
    "    class_mode=\"categorical\"\n",
    ")\n",
    "\n",
    "valid_generator = validation_data.flow_from_directory(\n",
    "    test_dir,\n",
    "    target_size=image_size,  # Corrected variable name\n",
    "    batch_size=batch_size,\n",
    "    class_mode=\"categorical\"\n",
    ")\n",
    "\n",
    "# Calculate steps_per_epoch and validation_steps\n",
    "steps_per_epoch = train_generator.samples // batch_size\n",
    "validation_steps = valid_generator.samples // batch_size\n",
    "\n",
    "history = model.fit(\n",
    "    train_generator,\n",
    "    steps_per_epoch=steps_per_epoch,\n",
    "    epochs=epochs,\n",
    "    validation_data=valid_generator,\n",
    "    validation_steps=validation_steps\n",
    ")\n",
    "\n",
    "model.save(\"exoticsclassification.h5\")\n"
   ]
  },
  {
   "cell_type": "code",
   "execution_count": 9,
   "metadata": {},
   "outputs": [
    {
     "name": "stdout",
     "output_type": "stream",
     "text": [
      "0: Chameleon\n",
      "1: Crocodile_Alligator\n",
      "2: Frog\n",
      "3: Gecko\n",
      "4: Iguana\n",
      "5: Lizard\n",
      "6: Salamander\n",
      "7: Snake\n",
      "8: Toad\n",
      "9: Turtle_Tortoise\n",
      "{\n",
      "    \"class_names\": {\n",
      "        \"0\": \"Chameleon\",\n",
      "        \"1\": \"Crocodile_Alligator\",\n",
      "        \"2\": \"Frog\",\n",
      "        \"3\": \"Gecko\",\n",
      "        \"4\": \"Iguana\",\n",
      "        \"5\": \"Lizard\",\n",
      "        \"6\": \"Salamander\",\n",
      "        \"7\": \"Snake\",\n",
      "        \"8\": \"Toad\",\n",
      "        \"9\": \"Turtle_Tortoise\"\n",
      "    }\n",
      "}\n"
     ]
    }
   ],
   "source": [
    "import os\n",
    "import json\n",
    "\n",
    "# Define the directory path\n",
    "directory_path = \"E:/project/pet_adoption_matching_algorithm/dataset/archive\"\n",
    "\n",
    "# List folder names in the specified directory\n",
    "folder_names = [folder for folder in os.listdir(directory_path) if os.path.isdir(os.path.join(directory_path, folder))]\n",
    "\n",
    "# Create a dictionary with class names starting from 0\n",
    "class_names = {str(i): folder_names[i] for i in range(len(folder_names))}\n",
    "\n",
    "# Convert the dictionary to a JSON string\n",
    "output_data = {\"class_names\": class_names}\n",
    "\n",
    "# Convert dictionary keys to integers\n",
    "class_names = {int(key): value for key, value in class_names.items()}\n",
    "\n",
    "# Print the class names with their corresponding folder names\n",
    "for key, value in class_names.items():\n",
    "    print(f\"{key}: {value}\")\n",
    "\n",
    "# Convert the dictionary to a JSON string\n",
    "json_output = json.dumps(output_data, indent=4)\n",
    "\n",
    "# Print the JSON output\n",
    "print(json_output)\n"
   ]
  }
 ],
 "metadata": {
  "kernelspec": {
   "display_name": ".venv",
   "language": "python",
   "name": "python3"
  },
  "language_info": {
   "codemirror_mode": {
    "name": "ipython",
    "version": 3
   },
   "file_extension": ".py",
   "mimetype": "text/x-python",
   "name": "python",
   "nbconvert_exporter": "python",
   "pygments_lexer": "ipython3",
   "version": "3.9.10"
  }
 },
 "nbformat": 4,
 "nbformat_minor": 2
}
